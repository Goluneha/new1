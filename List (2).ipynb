{
 "cells": [
  {
   "cell_type": "code",
   "execution_count": 3,
   "id": "397192a1",
   "metadata": {},
   "outputs": [
    {
     "name": "stdout",
     "output_type": "stream",
     "text": [
      "[1, 24, 23, 25, 6]\n"
     ]
    }
   ],
   "source": [
    "# List update\n",
    "A=[1,24, 23, 25, 6]\n",
    "print(A)"
   ]
  },
  {
   "cell_type": "code",
   "execution_count": 8,
   "id": "f2b9ff22",
   "metadata": {},
   "outputs": [
    {
     "name": "stdout",
     "output_type": "stream",
     "text": [
      "1\n"
     ]
    }
   ],
   "source": [
    "# In list to find the specific value\n",
    "\n",
    "print(A[0])"
   ]
  },
  {
   "cell_type": "code",
   "execution_count": 15,
   "id": "9d329079",
   "metadata": {},
   "outputs": [
    {
     "name": "stdout",
     "output_type": "stream",
     "text": [
      "[1, 25, 23, 25, 6]\n"
     ]
    }
   ],
   "source": [
    "# In List we can replace any value\n",
    "A[1]= 25\n",
    "print(A)"
   ]
  },
  {
   "cell_type": "code",
   "execution_count": 12,
   "id": "ef3dd545",
   "metadata": {},
   "outputs": [
    {
     "name": "stdout",
     "output_type": "stream",
     "text": [
      "['sneha', 'suheal', 'prachi']\n"
     ]
    }
   ],
   "source": [
    "# for example check with string once\n",
    "B=['neha', 'suheal', 'prachi']\n",
    "B[0]= 'sneha'\n",
    "print(B)"
   ]
  },
  {
   "cell_type": "code",
   "execution_count": 22,
   "id": "4def4f0a",
   "metadata": {},
   "outputs": [
    {
     "name": "stdout",
     "output_type": "stream",
     "text": [
      "['sneha', 'suheal', 'prachi']\n"
     ]
    }
   ],
   "source": [
    "# List slicing\n",
    "print(B[-3: ])"
   ]
  },
  {
   "cell_type": "code",
   "execution_count": 26,
   "id": "e36a909f",
   "metadata": {},
   "outputs": [
    {
     "name": "stdout",
     "output_type": "stream",
     "text": [
      "[4, 2, 7, 5, 3, 1]\n"
     ]
    }
   ],
   "source": [
    "# List methods\n",
    "a=[1,3,5,7,2,4]\n",
    "# a.sort()\n",
    "a.reverse() # its only reverse the whole string \n",
    "\n",
    "print(a)"
   ]
  },
  {
   "cell_type": "code",
   "execution_count": 4,
   "id": "44811500",
   "metadata": {},
   "outputs": [
    {
     "name": "stdout",
     "output_type": "stream",
     "text": [
      "[1, 3, 5, 7, 2, 4, 'neha']\n"
     ]
    }
   ],
   "source": [
    "# List methods\n",
    "a=[1,3,5,7,2,4] \n",
    "a.append('neha') # we can add string integer any datatypes and append meand add soming at end\n",
    "print(a)"
   ]
  },
  {
   "cell_type": "code",
   "execution_count": 5,
   "id": "99b2c9a0",
   "metadata": {},
   "outputs": [
    {
     "name": "stdout",
     "output_type": "stream",
     "text": [
      "[1, 3, 'suheal', 5, 7, 2, 4]\n"
     ]
    }
   ],
   "source": [
    "a=[1,3,5,7,2,4]\n",
    "a.insert(2,'suheal')# we can insert something at any indext like here 2 is index number and suehal is value.\n",
    "print(a)"
   ]
  },
  {
   "cell_type": "code",
   "execution_count": 6,
   "id": "386a2525",
   "metadata": {},
   "outputs": [
    {
     "name": "stdout",
     "output_type": "stream",
     "text": [
      "[1, 3, 5, 2, 4]\n"
     ]
    }
   ],
   "source": [
    "a=[1,3,5,7,2,4]\n",
    "a.pop(3) #pop means its delete something and 3 means is index value\n",
    "print(a)"
   ]
  },
  {
   "cell_type": "code",
   "execution_count": 7,
   "id": "307bf2f5",
   "metadata": {},
   "outputs": [
    {
     "name": "stdout",
     "output_type": "stream",
     "text": [
      "[1, 3, 5, 2, 4]\n"
     ]
    }
   ],
   "source": [
    "a=[1,3,5,7,2,4]\n",
    "a.remove(7) # its remove something i.e value we have to mentioned the value here\n",
    "print(a)"
   ]
  }
 ],
 "metadata": {
  "kernelspec": {
   "display_name": "Python 3 (ipykernel)",
   "language": "python",
   "name": "python3"
  },
  "language_info": {
   "codemirror_mode": {
    "name": "ipython",
    "version": 3
   },
   "file_extension": ".py",
   "mimetype": "text/x-python",
   "name": "python",
   "nbconvert_exporter": "python",
   "pygments_lexer": "ipython3",
   "version": "3.9.7"
  }
 },
 "nbformat": 4,
 "nbformat_minor": 5
}
